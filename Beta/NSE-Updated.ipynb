{
 "cells": [
  {
   "cell_type": "code",
   "execution_count": 6,
   "metadata": {},
   "outputs": [],
   "source": [
    "from tkinter import *\n",
    "from datetime import timedelta, datetime\n",
    "from urllib.request import urlopen, Request, urlretrieve\n",
    "import urllib\n",
    "from urllib import request\n",
    "from pathlib import Path\n",
    "import urllib.error\n",
    "from urllib.request import Request, urlopen\n",
    "import os\n",
    "import sys\n",
    "import pandas as pd\n",
    "import numpy as np\n",
    "import requests\n",
    "import csv\n",
    "import io\n",
    "import gspread_dataframe as gd\n",
    "from lxml import html\n",
    "from lxml import etree\n",
    "from openpyxl import load_workbook"
   ]
  },
  {
   "cell_type": "code",
   "execution_count": 7,
   "metadata": {},
   "outputs": [],
   "source": [
    "position_fii, position_dii = 0, 0\n",
    "workbookPath = 'C:/Users/Saurav/Desktop/Final/test.xlsx'"
   ]
  },
  {
   "cell_type": "code",
   "execution_count": 28,
   "metadata": {},
   "outputs": [],
   "source": [
    "def dii_and_fii_data(date):\n",
    "    \"\"\"DIIs and FIIs Data Single Day\"\"\"\n",
    "\n",
    "    # The given url requires date to be in the format ---- ddmmyyyy\n",
    "    url = 'https://www.nseindia.com/content/nsccl/fao_participant_oi_' + \\\n",
    "        date.replace('-', '') + '.csv'\n",
    "\n",
    "    hdr = {'User-Agent': 'Mozilla/5.0 (X11; Linux x86_64) AppleWebKit/537.11 (KHTML, like Gecko) Chrome/23.0.1271.64 Safari/537.11',\n",
    "           'Accept': 'text/html,application/xhtml+xml,application/xml;q=0.9,*/*;q=0.8',\n",
    "           'Accept-Charset': 'ISO-8859-1,utf-8;q=0.7,*;q=0.3',\n",
    "           'Accept-Encoding': 'none',\n",
    "           'Accept-Language': 'en-US,en;q=0.8',\n",
    "           'Connection': 'keep-alive'}\n",
    "\n",
    "    try:\n",
    "        r = requests.get(url, headers=hdr)\n",
    "                 \n",
    "        df = pd.read_csv(io.StringIO(r.content.decode('utf-8')))\n",
    "\n",
    "        new_header = df.iloc[0]  # grab the first row for the header\n",
    "        df = df[1:]  # take the data less the header row\n",
    "        df.columns = new_header  # set the header row as the df header\n",
    "\n",
    "        df.insert(loc=0, column=\"Date\", value=date)\n",
    "\n",
    "        df_right_dii = df.loc[2:2, ('Future Index Long',\n",
    "                                    'Future Index Short',\n",
    "                                    'Future Stock Long',\n",
    "                                    'Future Stock Short',\n",
    "                                    'Option InBBBdex Call Long',\n",
    "                                    'Option Index Put Long',\n",
    "                                    'Option Index Call Short',\n",
    "                                    'Option Index Put Short')]\n",
    "\n",
    "        df_right_fii = df.loc[3:3, ('Future Index Long',\n",
    "                                    'Future Index Short',\n",
    "                                    'Future Stock Long',\n",
    "                                    'Future Stock Short',\n",
    "                                    'Option Index Call Long',\n",
    "                                    'Option Index Put Long',\n",
    "                                    'Option Index Call Short',\n",
    "                                    'Option Index Put Short')]\n",
    "\n",
    "        df_date = df.loc[2:2, ('Date',)]\n",
    "\n",
    "        return df_date, df_right_dii, df_right_fii\n",
    "    \n",
    "    except:\n",
    "        print(\"[+] Sorry, content for %s is not available online,\\nKindly try after 7:30 PM for Today's Contents\"%(date))\n",
    "        exit()"
   ]
  },
  {
   "cell_type": "code",
   "execution_count": 29,
   "metadata": {},
   "outputs": [],
   "source": [
    "def availableDate(date):\n",
    "    \"\"\"Find next available data on site.\n",
    "This removes the possibilty of holidays in the list.\n",
    "Returns working day DATE as str\n",
    "Sub-module: <Only for use with nextDate function>\n",
    "DO NOT TOUCH\"\"\"\n",
    "\n",
    "    url = 'https://www.nseindia.com/content/nsccl/fao_participant_oi_' + date + '.csv'\n",
    "\n",
    "    try:\n",
    "        r = requests.get(url)      \n",
    "        \n",
    "        tree = html.fromstring(r.content)\n",
    "\n",
    "        checkDate = tree.findtext('.//title')\n",
    "        # p Returns None if Data to be scrapped is found\n",
    "        # p Returns 404 Not Found if Data to be scrapped is not found\n",
    "\n",
    "        return checkDate\n",
    "    except:\n",
    "        print(\"Sorry the fao Participants value of %s, has not been refreshed online yet. \\nKindly try after 7:30 PM\"%(date))"
   ]
  },
  {
   "cell_type": "code",
   "execution_count": 21,
   "metadata": {},
   "outputs": [],
   "source": [
    "def findDate():\n",
    "    \"\"\"Returns the str of Last filled Date and next Date to be filled\"\"\"\n",
    "\n",
    "    global position_dii, position_fii\n",
    "\n",
    "    df = pd.read_excel(workbookPath)\n",
    "    lastFilledDate = pd.isna(df['Unnamed: 16']).index[-1]\n",
    "\n",
    "    # This gives the row index from which data can be started appending\n",
    "    position_fii = len(df) + 1\n",
    "    position_dii = len(df) + 1 - 378\n",
    "\n",
    "    nextDate = (datetime.strptime(lastFilledDate, '%d-%m-%Y') +\n",
    "                timedelta(days=1)).strftime('%d-%m-%Y')\n",
    "\n",
    "    while availableDate(nextDate.replace('-', '')) == '404 Not Found':\n",
    "        nextDate = (datetime.strptime(nextDate, '%d-%m-%Y') +\n",
    "                    timedelta(days=1)).strftime('%d-%m-%Y')\n",
    "\n",
    "    return lastFilledDate, nextDate"
   ]
  },
  {
   "cell_type": "code",
   "execution_count": 22,
   "metadata": {},
   "outputs": [],
   "source": [
    "def niftySpot(date):\n",
    "    \"\"\"Returns the nifty closing value of the day as string\"\"\"\n",
    "\n",
    "    # Requires date format to be dd-mm-yyyy\n",
    "    url = \"https://www.nseindia.com/products/dynaContent/equities/indices/historicalindices.jsp?indexType=NIFTY%2050&fromDate=\" + date + \"&toDate=\" + date\n",
    "\n",
    "    page = requests.get(url)\n",
    "    tree = html.fromstring(page.content)\n",
    "\n",
    "    try:\n",
    "        nifty_close = tree.xpath('/html/body/table/tr/td[5]/text()')[0].strip()\n",
    "        return nifty_close\n",
    "\n",
    "    except IndexError:\n",
    "        print(\"Sorry the nifty value of %s, has not been refreshed online yet. \\nKindly try after 7:30 PM\"%(date))"
   ]
  },
  {
   "cell_type": "code",
   "execution_count": 23,
   "metadata": {},
   "outputs": [],
   "source": [
    "def dataAppend():\n",
    "\n",
    "    # lastFilledDate = findDate()[0]\n",
    "\n",
    "    # now.time() > datetime.time(hour=8)\n",
    "\n",
    "    while datetime.now().strftime('%d-%m-%Y') != findDate()[0]:\n",
    "\n",
    "        if datetime.now().strftime('%d-%m-%Y') == findDate()[0]:\n",
    "            print(\"[+][+] Process Completed\")\n",
    "            break\n",
    "\n",
    "        # Load current date inside the variable, thus changing according to the loop of the function\n",
    "        date = findDate()[1]\n",
    "\n",
    "        # Load the excel file into the script\n",
    "        book = load_workbook(workbookPath)\n",
    "        writer = pd.ExcelWriter(\n",
    "            workbookPath, engine='openpyxl')\n",
    "        writer.book = book\n",
    "        writer.sheets = dict((ws.title, ws) for ws in book.worksheets)\n",
    "\n",
    "        # Get the value to be appended for a given date in the loop\n",
    "        df_date, df_right_dii, df_right_fii = dii_and_fii_data(date)\n",
    "        nifty_close = niftySpot(date)\n",
    "\n",
    "        # Appending Date to FIIs Data and DIIs Data\n",
    "        print(\"[+] Appending Dates of FIIs and DIIs of date %s to row %s (FII) and row %s (DII)\" %\n",
    "              (date, position_fii, position_dii))\n",
    "\n",
    "        df_date.to_excel(writer, \"FII Activity\", startrow=position_fii,\n",
    "                         index=False, header=None)\n",
    "        df_date.to_excel(writer, \"DII\", startrow=position_dii,\n",
    "                         index=False, header=None)\n",
    "\n",
    "        # Appending FII and nifty information to FIIs Data\n",
    "        print(\"[+] Appending Data of FIIs and Nifty of date %s to row %s\" %\n",
    "              (date, position_fii))\n",
    "\n",
    "        df_right_fii.to_excel(writer, \"FII Activity\", startrow=position_fii,\n",
    "                              startcol=14, index=False, header=None)\n",
    "        pd.DataFrame(data=[nifty_close]).to_excel(\n",
    "            writer, \"FII Activity\", startrow=position_fii, startcol=9, index=False, header=None)\n",
    "\n",
    "        # Appending DII and nifty information to DIIs\n",
    "        print(\"[+] Appending Data of DIIs and Nifty of date %s to row %s\" %\n",
    "              (date, position_dii))\n",
    "\n",
    "        df_right_dii.to_excel(writer, \"DII\", startrow=position_dii,\n",
    "                              startcol=12, index=False, header=None)\n",
    "        pd.DataFrame(data=[nifty_close]).to_excel(\n",
    "            writer, \"DII\", startrow=position_dii, startcol=9, index=False, header=None)\n",
    "\n",
    "        #Saving the excel file\n",
    "        writer.save()\n",
    "\n",
    "    print(\"Seems Done\")"
   ]
  },
  {
   "cell_type": "code",
   "execution_count": 32,
   "metadata": {},
   "outputs": [],
   "source": [
    "def main():\n",
    "    dataAppend()\n",
    "    return 0"
   ]
  },
  {
   "cell_type": "code",
   "execution_count": 33,
   "metadata": {},
   "outputs": [
    {
     "name": "stdout",
     "output_type": "stream",
     "text": [
      "Sorry the fao Participants value of 18122018, has not been refreshed online yet. \n",
      "Kindly try after 7:30 PM\n",
      "Seems Done\n"
     ]
    },
    {
     "ename": "SystemExit",
     "evalue": "0",
     "output_type": "error",
     "traceback": [
      "An exception has occurred, use %tb to see the full traceback.\n",
      "\u001b[1;31mSystemExit\u001b[0m\u001b[1;31m:\u001b[0m 0\n"
     ]
    },
    {
     "name": "stderr",
     "output_type": "stream",
     "text": [
      "C:\\ProgramData\\Anaconda3\\lib\\site-packages\\IPython\\core\\interactiveshell.py:2971: UserWarning: To exit: use 'exit', 'quit', or Ctrl-D.\n",
      "  warn(\"To exit: use 'exit', 'quit', or Ctrl-D.\", stacklevel=1)\n"
     ]
    }
   ],
   "source": [
    "if __name__ == \"__main__\":\n",
    "    sys.exit(main())"
   ]
  }
 ],
 "metadata": {
  "kernelspec": {
   "display_name": "Python 3",
   "language": "python",
   "name": "python3"
  },
  "language_info": {
   "codemirror_mode": {
    "name": "ipython",
    "version": 3
   },
   "file_extension": ".py",
   "mimetype": "text/x-python",
   "name": "python",
   "nbconvert_exporter": "python",
   "pygments_lexer": "ipython3",
   "version": "3.6.5"
  }
 },
 "nbformat": 4,
 "nbformat_minor": 2
}
